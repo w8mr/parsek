{
 "cells": [
  {
   "metadata": {},
   "cell_type": "markdown",
   "source": [
    "#\n",
    "# <center>Simple Parser Combinator</center>\n",
    "### <center>in</center>\n",
    "# <center>Kotlin</center>\n",
    "### <center>to</center>\n",
    "### <center>parse JSON</center>\n",
    "#\n",
    "#\n",
    "#"
   ]
  },
  {
   "metadata": {},
   "cell_type": "markdown",
   "source": [
    "<div style=\"float:right\">\n",
    "<div style=\"float: right; margin:80px 0;\"><img src=\"http://w8mr.nl/elmar.webp\" width=\"200px\" style=\"border-radius: 50%;\" /></div>\n",
    "<div style=\"float: clear;\"></div>\n",
    "<div style=\"float: right\"><img src=\"https://github.com/w8mr/parsek/raw/refs/heads/kotlin-dev-days-2025/kdd-25/link.svg\" />\n",
    "<center><h3><a href=\"https://w8mr.nl/kdd-25\">w8mr.nl/kdd-25</a></h3></center>\n",
    "<center><h3>Live Notebook</br>Presentation</h3></center>\n",
    "</div>\n",
    "</div>\n",
    "\n",
    "# Elmar Wachtmeester\n",
    "##### IT Chapter lead @ ING\n",
    "##### Author of Parsek - a Kotlin parser combinator library\n",
    "#\n",
    "About me: \\\n",
    "I'm 50 years old, I live in Oegstgeest in the Netherlands \\\n",
    "toghether with my wife and 6 children. I've been a software developer \\\n",
    "for 28 years and I'm into everything related to computers, math, \\\n",
    "algorithms and puzzles. I also like to ride my motorcycle. \\\n",
    "\\\n",
    "Website: [w8mr.nl](https://w8mr.nl) \\\n",
    "Email: [elmar@w8mr.nl](mailto:elmar@w8mr.nl) \\\n",
    "GitHub: [github.com/w8mr/parsek](https://github.com/w8mr/parsek) \\\n",
    "LinkedIn: [www.linkedin.com/in/elmarwachtmeester/](https://www.linkedin.com/in/elmarwachtmeester/) \\\n",
    "X: [x.com/_w8mr](https://x.com/_w8mr) \\\n",
    "#\n",
    "#"
   ]
  },
  {
   "metadata": {},
   "cell_type": "markdown",
   "source": [
    "# Agenda\n",
    "\n",
    "- What is a parser (combinator)?\n",
    "- How to build a simple parser combinator in kotlin\n",
    "- Differences with real life parser\n",
    "- Applications of a Parser combinator\n",
    "- Questions\n",
    "#\n",
    "#\n",
    "#\n",
    "#\n",
    "#\n",
    "#"
   ]
  },
  {
   "metadata": {},
   "cell_type": "markdown",
   "source": [
    "<div>\n",
    "<div style=\"position: absolute; top: 200px; left: 650px\">\n",
    "<div>\n",
    "<img src=\"https://github.com/w8mr/parsek/raw/refs/heads/kotlin-dev-days-2025/kdd-25/math_parse.svg\" />\n",
    "</div>\n",
    "<div>\n",
    "<img src=\"https://github.com/w8mr/parsek/raw/refs/heads/kotlin-dev-days-2025/kdd-25/sentence_parse.svg\" />\n",
    "</div>\n",
    "</div>\n",
    "</div>\n",
    "\n",
    "# What is a parser\n",
    "\n",
    "A parser is a component in computing and linguistics that analyzes and interprets structured input (usually text or code) according to a set of rules or a grammar.\n",
    "\n",
    "Math expression\n",
    "- Input: 3 + 5 * 3 - 7\n",
    "- Output: Subtract(Add(3, Multiply(5, 3)), 7)\n",
    "\n",
    "Linguistic expression\n",
    "- Input: The black cat climbs into the tall tree\n",
    "- Output:\n",
    "    - Determiner: **The**\n",
    "    - Adjective: **black**\n",
    "    - Noun: **cat**\n",
    "    - Verb: **climbs**\n",
    "    - Preposition: **into**\n",
    "    - Determiner: **the**\n",
    "    - Adjective: **tall**\n",
    "    - Noun: **tree**\n",
    "\n",
    "\n",
    "\n",
    "#\n",
    "\n",
    "#\n",
    "\n",
    "#\n",
    "\n",
    "#\n",
    "\n",
    "#\n",
    "\n",
    "#\n",
    "\n",
    "#\n",
    "\n",
    "#\n",
    "\n",
    "#\n",
    "\n",
    "#\n",
    "\n",
    "#\n",
    "\n"
   ]
  },
  {
   "metadata": {},
   "cell_type": "markdown",
   "source": [
    "<div style=\"position: absolute; top: 150px; right: 100px\">\n",
    "<img src=\"https://github.com/w8mr/parsek/raw/refs/heads/kotlin-dev-days-2025/kdd-25/file_formats.svg\" width=\"800px\" />\n",
    "</div>\n",
    "\n",
    "# Where would you use a parser\n",
    "- Parsing input data\n",
    "    - Advent of Code\n",
    "- Parsing text file formats\n",
    "    - JSON\n",
    "    - Yaml\n",
    "    - Xml/Html\n",
    "- Parsing binary file formats\n",
    "    - Java class file\n",
    "    - JPEG\n",
    "    - MP3\n",
    "- Compilers\n",
    "- DSLs\n",
    "    - SQL\n",
    "    - Graphvix dot language\n",
    "    - Wirespec\n",
    "\n",
    "#\n",
    "#"
   ]
  },
  {
   "metadata": {},
   "cell_type": "markdown",
   "source": [
    "§<div style=\"position: absolute; top: 150px; left: 800px\">\n",
    "\n",
    "<h4>Succesful parse</h4>\n",
    "<img src=\"https://github.com/w8mr/parsek/raw/refs/heads/kotlin-dev-days-2025/kdd-25/successful_parse.svg\" />\n",
    "\n",
    "<h4>Failed parse</h4>\n",
    "<img src=\"https://github.com/w8mr/parsek/raw/refs/heads/kotlin-dev-days-2025/kdd-25/failed_parse.svg\" />\n",
    "\n",
    "</div>\n",
    "\n",
    "# What is a parser (in a parser combinator)\n",
    "\n",
    "In a parser combinator the parser is just a simple function:\n",
    "- Input a sequence of tokens (in our case characters)\n",
    "- Takes a one or more tokens to checks the grammer rule\n",
    "- Optionally transforms the tokens into an object\n",
    "- Outputs\n",
    "    - Parser result:\n",
    "        - a simple token\n",
    "        - a structured object\n",
    "        - a failure\n",
    "    - The remainder of the sequence\n",
    "\n",
    "In kotlin the function (signature) would look like this\n",
    "```kotlin\n",
    "fun <R: Any> invoke(input: String): Pair<R?, String>\n",
    "```\n",
    "#\n",
    "#\n",
    "#\n",
    "\n"
   ]
  },
  {
   "metadata": {
    "ExecuteTime": {
     "end_time": "2025-09-03T13:02:53.201014Z",
     "start_time": "2025-09-03T13:02:53.134483Z"
    }
   },
   "cell_type": "code",
   "outputs": [],
   "execution_count": 1,
   "source": [
    "interface Parser<R: Any> {\n",
    "    operator fun invoke(input: String): Pair<R?, String>\n",
    "}\n",
    "\n",
    "// 1. Create an operator function inside a Parser interface."
   ]
  },
  {
   "metadata": {},
   "cell_type": "markdown",
   "source": "<div />"
  },
  {
   "metadata": {},
   "cell_type": "markdown",
   "source": [
    "# Building the first parser\n",
    "\n",
    "The first parser\n",
    "- Takes a char\n",
    "- Checks it agains a predicate\n",
    "\n",
    "We create a function which takes the predicate as argument and returns an object implementing out Parser interface\n",
    "\n",
    "```kotlin\n",
    "fun char(predicate: (Char) -> Boolean) = object : Parser<Char> {\n",
    "    override fun invoke(input: String): Pair<Char?, String> {\n",
    "        TODO()\n",
    "    }\n",
    "}\n",
    "```\n",
    "\n",
    "We are going to use this to create a digit parser\n",
    "\n",
    "```kotlin\n",
    "val digit = char { TODO() }\n",
    "```\n",
    "#\n",
    "\n",
    "#\n",
    "\n",
    "#"
   ]
  },
  {
   "metadata": {
    "ExecuteTime": {
     "end_time": "2025-09-03T13:02:53.383300Z",
     "start_time": "2025-09-03T13:02:53.205729Z"
    }
   },
   "cell_type": "code",
   "outputs": [],
   "execution_count": 2,
   "source": [
    "val EoT = '\\u0003'\n",
    "fun char(predicate: (Char) -> Boolean) = object : Parser<Char> {\n",
    "    override fun invoke(input: String): Pair<Char?, String> {\n",
    "        val ch = input.firstOrNull() ?: EoT\n",
    "        return when {\n",
    "            predicate(ch) -> ch to input.drop(1)\n",
    "            else -> null to input\n",
    "        }\n",
    "    }\n",
    "}\n",
    "\n",
    "// 2. Implement the parser function.\n",
    "// when the first character matches the predicate return first and remainder\n",
    "// else return null and original input\n",
    "// If no more input return EoT"
   ]
  },
  {
   "metadata": {
    "ExecuteTime": {
     "end_time": "2025-09-03T13:02:53.470094Z",
     "start_time": "2025-09-03T13:02:53.393649Z"
    }
   },
   "cell_type": "code",
   "outputs": [],
   "execution_count": 3,
   "source": [
    "val digit = char { it in '0'..'9' }\n",
    "\n",
    "// 3. Use char parser to check for digit range"
   ]
  },
  {
   "metadata": {
    "ExecuteTime": {
     "end_time": "2025-09-03T13:02:53.546188Z",
     "start_time": "2025-09-03T13:02:53.496370Z"
    }
   },
   "cell_type": "code",
   "outputs": [
    {
     "data": {
      "text/plain": [
       "(1, 23)"
      ]
     },
     "execution_count": 4,
     "metadata": {},
     "output_type": "execute_result"
    }
   ],
   "execution_count": 4,
   "source": [
    "digit(\"123\")\n",
    "\n",
    "// 4. Use the digit parser to parse \"123\""
   ]
  },
  {
   "metadata": {
    "ExecuteTime": {
     "end_time": "2025-09-03T13:02:53.592962Z",
     "start_time": "2025-09-03T13:02:53.556662Z"
    }
   },
   "cell_type": "code",
   "outputs": [
    {
     "data": {
      "text/plain": [
       "(null, abc)"
      ]
     },
     "execution_count": 5,
     "metadata": {},
     "output_type": "execute_result"
    }
   ],
   "execution_count": 5,
   "source": [
    "digit(\"abc\")\n",
    "\n",
    "// 5. Use the digit parser to parse \"abc\" to see it return null"
   ]
  },
  {
   "metadata": {},
   "cell_type": "markdown",
   "source": "<div />"
  },
  {
   "metadata": {},
   "cell_type": "markdown",
   "source": [
    "# A small sidestep into Notebook Renders\n",
    "\n",
    "A notebook render is a function you can register for a certain Class to change the way the result is show in the notebook. You can output to different formats (Plain text, HTML, SVG, Jpeg, ...)\n",
    "\n",
    "\n",
    "I'm going to register a render for Pair, which renders a small table with the following\n",
    "- Parsed result\n",
    "- Type of the result\n",
    "- Remainder of the input\n",
    "\n",
    "#\n",
    "#\n",
    "#\n",
    "#\n",
    "#"
   ]
  },
  {
   "metadata": {
    "ExecuteTime": {
     "end_time": "2025-09-03T13:02:53.948359Z",
     "start_time": "2025-09-03T13:02:53.613250Z"
    }
   },
   "cell_type": "code",
   "outputs": [],
   "execution_count": 6,
   "source": [
    "val htmlStateRenderer = createRenderer<Pair<*, *>> {\n",
    "    var (parsed, type) = when (val f = it.first) {\n",
    "        null -> Pair(\"null\", \"\")\n",
    "        is Unit -> Pair(\"Unit\", \"\")\n",
    "        is List<*> -> if (f.isNotEmpty()) Pair(f.toString(), \"List&lt;${f[0]!!::class.simpleName}&gt;\") else Pair(\"[]\", \"List<Any>\")\n",
    "        else -> Pair(f.toString(), f::class.simpleName)\n",
    "    }\n",
    "    val html = \"\"\"<table><tr><th>parsed</th><th>type</th><th>remainder</th></tr>\n",
    "    <tr><td>${parsed}</td><td>${type}</td><td>\"${it.second}\"</td></tr><table>\"\"\"\n",
    "    mimeResult(\n",
    "        MimeTypes.HTML to html,\n",
    "        MimeTypes.PLAIN_TEXT to \"\"\"($parsed: $type, \"${it.second}\")\"\"\"\n",
    "    )\n",
    "}\n",
    "notebook.renderersProcessor.registerWithoutOptimizing(htmlStateRenderer)\n",
    "\n",
    "//Check previous outputs again"
   ]
  },
  {
   "metadata": {},
   "cell_type": "markdown",
   "source": "<div />"
  },
  {
   "metadata": {},
   "cell_type": "markdown",
   "source": [
    "<div style=\"position: absolute; top: 400px; right: 150px\">\n",
    "<img src=\"https://github.com/w8mr/parsek/raw/refs/heads/kotlin-dev-days-2025/kdd-25/parser_combinator.svg\" />\n",
    "\n",
    "\n",
    "</div>\n",
    "\n",
    "# What is a combinator (in a parser combinator)\n",
    "\n",
    "A combinator is a parser which uses one or more other parser to create a more complex parser. There are different kind of combinators:\n",
    "\n",
    "- Repeat parsers (e.g., parse a list of items)\n",
    "- Sequence parsers (e.g., parse A followed by B)\n",
    "- Transform results (e.g., convert parsed strings into numbers)\n",
    "- Choose between alternatives (e.g., parse A or B)\n",
    "\n",
    "#\n",
    "#\n",
    "#\n",
    "#\n",
    "#\n",
    "#\n",
    "#\n",
    "#\n",
    "#\n",
    "#\n",
    "#\n",
    "\n"
   ]
  },
  {
   "metadata": {},
   "cell_type": "markdown",
   "source": [
    "# Repeat parser combinator\n",
    "\n",
    "Our first combinator is a repeat combinator. It will take one parser as argument and will keep running this on the input string until the parser fails. The successful results will be returned as a List.\n",
    "\n",
    "```kotlin\n",
    "fun <R: Any> repeat(parser: Parser<out R>) = object : Parser<List<R>> {\n",
    "    override fun invoke(input: String): Pair<List<R>?, String> {\n",
    "        TODO()\n",
    "    }\n",
    "}\n",
    "```\n",
    "\n",
    "#\n",
    "\n",
    "#\n",
    "\n",
    "#\n",
    "\n",
    "#"
   ]
  },
  {
   "metadata": {
    "ExecuteTime": {
     "end_time": "2025-09-03T13:04:57.012724Z",
     "start_time": "2025-09-03T13:04:56.937450Z"
    }
   },
   "cell_type": "code",
   "outputs": [],
   "execution_count": 9,
   "source": [
    "fun <R: Any> repeat(parser: Parser<out R>) = object : Parser<List<R>> {\n",
    "    override fun invoke(input: String): Pair<List<R>?, String> {\n",
    "        val result = mutableListOf<R>()\n",
    "        var current = input\n",
    "\n",
    "        while (true) {\n",
    "            val (parsed, remainder) = parser.invoke(current)\n",
    "            when (parsed) {\n",
    "                null -> break\n",
    "                else -> {\n",
    "                    result += parsed\n",
    "                    current = remainder\n",
    "                }\n",
    "            }\n",
    "        }\n",
    "        return result.toList() to current\n",
    "    }\n",
    "}\n",
    "\n",
    "// 6. Add the while true loop. Invoke the parser.\n",
    "// when parsed is null break\n",
    "// else add parsed to result and set current to remainder."
   ]
  },
  {
   "metadata": {
    "ExecuteTime": {
     "end_time": "2025-09-03T13:04:58.332009Z",
     "start_time": "2025-09-03T13:04:58.297865Z"
    }
   },
   "cell_type": "code",
   "outputs": [
    {
     "data": {
      "text/html": [
       "<table><tr><th>parsed</th><th>type</th><th>remainder</th></tr>\n",
       "    <tr><td>[1, 2, 3]</td><td>List&lt;Char&gt;</td><td>\"abc\"</td></tr><table>"
      ],
      "text/plain": [
       "([1, 2, 3]: List&lt;Char&gt;, \"abc\")"
      ]
     },
     "execution_count": 10,
     "metadata": {},
     "output_type": "execute_result"
    }
   ],
   "execution_count": 10,
   "source": [
    "val number = repeat(digit)\n",
    "number(\"123abc\")\n",
    "\n",
    "// 7. Define a number parse, repeating digits.\n",
    "// Check new parser against \"123abc\""
   ]
  },
  {
   "metadata": {},
   "cell_type": "markdown",
   "source": "<div />"
  },
  {
   "metadata": {},
   "cell_type": "markdown",
   "source": [
    "# Transformation parser combinator\n",
    "\n",
    "Since combinators might not always return the structure as we want it, we define a combinator to transform/map the result.\n",
    "It is defined as an extension on parser and takes a map function as argument\n",
    "\n",
    "Without transformation\n",
    "```kotlin\n",
    "val number = repeat(digit)\n",
    "number(\"123\")\n",
    "\n",
    "// gives List<Char> ['1', '2', '3']\n",
    "```\n",
    "\n",
    "Transform parser\n",
    "```kotlin\n",
    "infix fun <R: Any, S: Any> Parser<R>.map(func: (R) -> S)\n",
    "```\n",
    "\n",
    "With transformation\n",
    "```kotlin\n",
    "val number = repeat(digit) map { it.joinToString(\"\").toInt() }\n",
    "number(\"123\")\n",
    "\n",
    "// gives Int 123\n",
    "```\n",
    "\n",
    "#\n",
    "\n",
    "#"
   ]
  },
  {
   "metadata": {
    "ExecuteTime": {
     "end_time": "2025-09-03T13:05:03.601975Z",
     "start_time": "2025-09-03T13:05:03.531255Z"
    }
   },
   "cell_type": "code",
   "outputs": [],
   "execution_count": 11,
   "source": [
    "infix fun <R: Any, S: Any> Parser<R>.map(func: (R) -> S) = object : Parser<S> {\n",
    "    override fun invoke(input: String): Pair<S?, String> {\n",
    "        val (parsed, remainder) = this@map.invoke(input)\n",
    "        return when (parsed) {\n",
    "            null -> parsed to input\n",
    "            else -> func(parsed) to remainder\n",
    "        }\n",
    "    }\n",
    "}\n",
    "\n",
    "// 8. invoke parser as parsed and remainder. When parsed is not null, give parsed to func and return Pair with remainder"
   ]
  },
  {
   "metadata": {
    "ExecuteTime": {
     "end_time": "2025-09-03T13:05:06.146536Z",
     "start_time": "2025-09-03T13:05:06.083638Z"
    }
   },
   "cell_type": "code",
   "outputs": [
    {
     "data": {
      "text/html": [
       "<table><tr><th>parsed</th><th>type</th><th>remainder</th></tr>\n",
       "    <tr><td>123</td><td>Int</td><td>\"abc\"</td></tr><table>"
      ],
      "text/plain": [
       "(123: Int, \"abc\")"
      ]
     },
     "execution_count": 12,
     "metadata": {},
     "output_type": "execute_result"
    }
   ],
   "execution_count": 12,
   "source": [
    "val number = repeat(digit) map { it.joinToString(\"\").toInt() }\n",
    "number(\"123abc\")\n"
   ]
  },
  {
   "metadata": {},
   "cell_type": "markdown",
   "source": "<div />"
  },
  {
   "metadata": {},
   "cell_type": "markdown",
   "source": [
    "<div style=\"position: absolute; top: 400px; right: 100px\">\n",
    "<img src=\"https://github.com/w8mr/parsek/raw/refs/heads/kotlin-dev-days-2025/kdd-25/json_string_parser.svg\" />\n",
    "</div>\n",
    "\n",
    "# The JSON string\n",
    "\n",
    "- What is the JSON string? It's a sequence of\n",
    "    - double qoute\n",
    "    - zero or more other characters\n",
    "    - another double qoute.\n",
    "- Data class to hold the actual characters as a string\n",
    "- Single char parser\n",
    "- Quote parser\n",
    "- Sequence parser\n",
    "\n",
    "#\n",
    "#\n",
    "#\n",
    "#\n",
    "#\n",
    "#\n",
    "#\n",
    "#\n",
    "#\n",
    "#\n",
    "#"
   ]
  },
  {
   "metadata": {
    "ExecuteTime": {
     "end_time": "2025-09-03T13:05:10.226903Z",
     "start_time": "2025-09-03T13:05:10.157470Z"
    }
   },
   "cell_type": "code",
   "outputs": [],
   "execution_count": 13,
   "source": [
    "interface JSONValue\n",
    "data class JSONString(val value: String) : JSONValue"
   ]
  },
  {
   "metadata": {
    "ExecuteTime": {
     "end_time": "2025-09-03T13:05:11.018622Z",
     "start_time": "2025-09-03T13:05:10.948948Z"
    }
   },
   "cell_type": "code",
   "outputs": [],
   "execution_count": 14,
   "source": [
    "fun char(char: Char) = char { it == char }\n",
    "\n",
    "// 9. Add char parser with predicate to check if it matches given char"
   ]
  },
  {
   "metadata": {
    "ExecuteTime": {
     "end_time": "2025-09-03T13:05:11.488506Z",
     "start_time": "2025-09-03T13:05:11.454598Z"
    }
   },
   "cell_type": "code",
   "outputs": [
    {
     "data": {
      "text/html": [
       "<table><tr><th>parsed</th><th>type</th><th>remainder</th></tr>\n",
       "    <tr><td>\"</td><td>Char</td><td>\"abc\"</td></tr><table>"
      ],
      "text/plain": [
       "(\": Char, \"abc\")"
      ]
     },
     "execution_count": 15,
     "metadata": {},
     "output_type": "execute_result"
    }
   ],
   "execution_count": 15,
   "source": [
    "val doubleQoute = char('\"')\n",
    "doubleQoute(\"\\\"abc\")"
   ]
  },
  {
   "metadata": {
    "ExecuteTime": {
     "end_time": "2025-09-03T13:06:03.674056Z",
     "start_time": "2025-09-03T13:06:03.598898Z"
    }
   },
   "cell_type": "code",
   "outputs": [],
   "execution_count": 17,
   "source": [
    "fun <R: Any> seq(vararg parsers: Parser<out R>) = object : Parser<List<R>> {\n",
    "    override fun invoke(input: String): Pair<List<R>?, String> {\n",
    "        val result = mutableListOf<R>()\n",
    "        var current = input\n",
    "\n",
    "        for (parser in parsers) {\n",
    "            val (parsed, remainder) = parser.invoke(current)\n",
    "            when (parsed) {\n",
    "                null -> return null to input\n",
    "                else -> {\n",
    "                    result += parsed\n",
    "                    current = remainder\n",
    "                }\n",
    "            }\n",
    "        }\n",
    "        return result.toList() to current\n",
    "    }\n",
    "}\n",
    "\n",
    "// 10. Copy repeat parser, change name\n",
    "// Changed to varargs and makes plural\n",
    "// Change while into for\n",
    "// Change when null return empty null pair"
   ]
  },
  {
   "metadata": {
    "ExecuteTime": {
     "end_time": "2025-09-03T13:06:04.303693Z",
     "start_time": "2025-09-03T13:06:04.241792Z"
    }
   },
   "cell_type": "code",
   "outputs": [
    {
     "data": {
      "text/html": [
       "<table><tr><th>parsed</th><th>type</th><th>remainder</th></tr>\n",
       "    <tr><td>[\", [a, b, c], \"]</td><td>List&lt;Char&gt;</td><td>\": 123 \"</td></tr><table>"
      ],
      "text/plain": [
       "([\", [a, b, c], \"]: List&lt;Char&gt;, \": 123 \")"
      ]
     },
     "execution_count": 18,
     "metadata": {},
     "output_type": "execute_result"
    }
   ],
   "execution_count": 18,
   "source": [
    "val jsonStringValue = repeat(char { it != '\"' })\n",
    "val jsonString = seq(doubleQoute, jsonStringValue, doubleQoute)\n",
    "jsonString((\"\"\"\"abc\": 123 \"\"\"))\n"
   ]
  },
  {
   "metadata": {
    "ExecuteTime": {
     "end_time": "2025-09-03T13:06:05.626952Z",
     "start_time": "2025-09-03T13:06:05.562260Z"
    }
   },
   "cell_type": "code",
   "outputs": [
    {
     "data": {
      "text/html": [
       "<table><tr><th>parsed</th><th>type</th><th>remainder</th></tr>\n",
       "    <tr><td>abc</td><td>String</td><td>\": 123 \"</td></tr><table>"
      ],
      "text/plain": [
       "(abc: String, \": 123 \")"
      ]
     },
     "execution_count": 19,
     "metadata": {},
     "output_type": "execute_result"
    }
   ],
   "execution_count": 19,
   "source": [
    "val jsonStringValue = repeat(char { it != '\"' }) map { it.joinToString(\"\") }\n",
    "val jsonString = seq(doubleQoute, jsonStringValue, doubleQoute) map { it[1]}\n",
    "jsonString((\"\"\"\"abc\": 123 \"\"\"))\n",
    "\n",
    "// 11. Add map to jsonStringValue to join it and add it to JSONString\n",
    "//     Add map to take middle part"
   ]
  },
  {
   "metadata": {},
   "cell_type": "markdown",
   "source": "<div />"
  },
  {
   "metadata": {},
   "cell_type": "markdown",
   "source": [
    "# The ignore parser combinator\n",
    "\n",
    "Because some parts are not interesting we build an ignore parser\n",
    "\n",
    "- Define ignore parser\n",
    "- Redefine single char parser\n",
    "- Redefine doubleQoute parser\n",
    "- Create \"and\" helper functions\n",
    "\n",
    "#\n",
    "#\n",
    "#\n",
    "#\n",
    "#"
   ]
  },
  {
   "metadata": {
    "ExecuteTime": {
     "end_time": "2025-09-03T13:06:10.102292Z",
     "start_time": "2025-09-03T13:06:10.060368Z"
    }
   },
   "cell_type": "code",
   "outputs": [],
   "execution_count": 20,
   "source": "fun <R: Any> Parser<R>.ignore() = this.map { Unit }"
  },
  {
   "metadata": {
    "ExecuteTime": {
     "end_time": "2025-09-03T13:06:10.727352Z",
     "start_time": "2025-09-03T13:06:10.691577Z"
    }
   },
   "cell_type": "code",
   "outputs": [],
   "execution_count": 21,
   "source": "fun char(char: Char) = char { it == char }.ignore()"
  },
  {
   "metadata": {
    "ExecuteTime": {
     "end_time": "2025-09-03T13:06:11.663996Z",
     "start_time": "2025-09-03T13:06:11.633698Z"
    }
   },
   "cell_type": "code",
   "outputs": [
    {
     "data": {
      "text/html": [
       "<table><tr><th>parsed</th><th>type</th><th>remainder</th></tr>\n",
       "    <tr><td>Unit</td><td></td><td>\"abc\"</td></tr><table>"
      ],
      "text/plain": [
       "(Unit: , \"abc\")"
      ]
     },
     "execution_count": 22,
     "metadata": {},
     "output_type": "execute_result"
    }
   ],
   "execution_count": 22,
   "source": [
    "val doubleQoute = char('\"')\n",
    "doubleQoute(\"\\\"abc\")"
   ]
  },
  {
   "metadata": {
    "ExecuteTime": {
     "end_time": "2025-09-03T13:06:15.034243Z",
     "start_time": "2025-09-03T13:06:14.945825Z"
    }
   },
   "cell_type": "code",
   "outputs": [],
   "execution_count": 23,
   "source": [
    "@JvmName(\"and1\")\n",
    "infix fun <R: Any> Parser<Unit>.and(other: Parser<R>) = seq(this, other).map { it[1] as R }\n",
    "@JvmName(\"and2\")\n",
    "infix fun <R: Any> Parser<R>.and(other: Parser<Unit>) = seq(this, other).map { it[0] as R }\n",
    "@JvmName(\"and3\")\n",
    "infix fun <R: Any, S: Any> Parser<R>.and(other: Parser<S>) = seq(this, other).map { it[0] as R to it[1] as S }\n",
    "@JvmName(\"and4\")\n",
    "infix fun Parser<Unit>.and(other: Parser<Unit>) = seq(this, other).map { Unit }"
   ]
  },
  {
   "metadata": {
    "ExecuteTime": {
     "end_time": "2025-09-03T13:07:11.866336Z",
     "start_time": "2025-09-03T13:07:11.806195Z"
    }
   },
   "cell_type": "code",
   "outputs": [
    {
     "data": {
      "text/html": [
       "<table><tr><th>parsed</th><th>type</th><th>remainder</th></tr>\n",
       "    <tr><td>JSONString(value=abc)</td><td>JSONString</td><td>\": 123 \"</td></tr><table>"
      ],
      "text/plain": [
       "(JSONString(value=abc): JSONString, \": 123 \")"
      ]
     },
     "execution_count": 24,
     "metadata": {},
     "output_type": "execute_result"
    }
   ],
   "execution_count": 24,
   "source": [
    "val jsonStringValue = repeat(char { it != '\"' }).map { JSONString(it.joinToString(\"\")) }\n",
    "val jsonString = doubleQoute and jsonStringValue and doubleQoute\n",
    "jsonString((\"\"\"\"abc\": 123 \"\"\"))\n",
    "\n",
    "// 12. Add json string using and"
   ]
  },
  {
   "metadata": {},
   "cell_type": "markdown",
   "source": "<div />"
  },
  {
   "metadata": {},
   "cell_type": "markdown",
   "source": [
    "<div style=\"position: absolute; top: 450px; right: 100px\">\n",
    "<img src=\"https://github.com/w8mr/parsek/raw/refs/heads/kotlin-dev-days-2025/kdd-25/simple_knife.webp\" width=\"300px\"/>\n",
    "</div>\n",
    "\n",
    "# The Swiss army knife Parser\n",
    "\n",
    "Create a simple DSL to run parsers. Get the parsed data, manupilate it and return it\n",
    "\n",
    "```kotlin\n",
    "interface CombiDSL {\n",
    "    operator fun <R: Any> Parser<R>.invoke() : R\n",
    "}\n",
    "```\n",
    "\n",
    "Works by calling the parser. If it succeeds return the value, if it fails throw an exception. Return the value returned by the code block\n",
    "\n",
    "#\n",
    "\n",
    "#\n",
    "\n",
    "#\n",
    "\n",
    "#\n",
    "\n",
    "#\n"
   ]
  },
  {
   "metadata": {
    "ExecuteTime": {
     "end_time": "2025-09-03T13:09:52.377148Z",
     "start_time": "2025-09-03T13:09:52.330195Z"
    }
   },
   "cell_type": "code",
   "outputs": [],
   "execution_count": 25,
   "source": [
    "interface CombiDSL {\n",
    "    operator fun <R: Any> Parser<R>.invoke() : R\n",
    "}\n",
    "\n",
    "class CombiDSLImpl(var input: String) : CombiDSL {\n",
    "    override fun <R: Any> Parser<R>.invoke(): R {\n",
    "        val (parsed, remainder) = this(input)\n",
    "        return when (parsed) {\n",
    "            null -> error(\"No match\")\n",
    "            else -> {\n",
    "                input = remainder\n",
    "                parsed\n",
    "            }\n",
    "        }\n",
    "    }\n",
    "}"
   ]
  },
  {
   "metadata": {
    "ExecuteTime": {
     "end_time": "2025-09-03T13:10:04.880058Z",
     "start_time": "2025-09-03T13:10:04.806934Z"
    }
   },
   "cell_type": "code",
   "outputs": [],
   "execution_count": 26,
   "source": [
    "fun <R: Any> combi(init: CombiDSL.() -> R) = object: Parser<R> {\n",
    "    override fun invoke(input: String): Pair<R?, String> {\n",
    "        val dsl = CombiDSLImpl(input)\n",
    "        return try {\n",
    "            init.invoke(dsl) to dsl.input\n",
    "        } catch(e: Exception) {\n",
    "            null to input\n",
    "        }\n",
    "    }\n",
    "}"
   ]
  },
  {
   "metadata": {
    "ExecuteTime": {
     "end_time": "2025-09-03T13:10:39.606566Z",
     "start_time": "2025-09-03T13:10:39.544318Z"
    }
   },
   "cell_type": "code",
   "outputs": [
    {
     "data": {
      "text/html": [
       "<table><tr><th>parsed</th><th>type</th><th>remainder</th></tr>\n",
       "    <tr><td>JSONString(value=abc)</td><td>JSONString</td><td>\": 1\"</td></tr><table>"
      ],
      "text/plain": [
       "(JSONString(value=abc): JSONString, \": 1\")"
      ]
     },
     "execution_count": 27,
     "metadata": {},
     "output_type": "execute_result"
    }
   ],
   "execution_count": 27,
   "source": [
    "val jsonString = combi {\n",
    "    doubleQoute()\n",
    "    val chars = repeat(char { it != '\"'})()\n",
    "    doubleQoute()\n",
    "    JSONString(chars.joinToString(\"\"))\n",
    "}\n",
    "\n",
    "jsonString(\"\"\"\"abc\": 1\"\"\")\n",
    "\n",
    "// 13. Use three parsers: 2x doubleQoute, 1x repeat char not double qoute. Return JSONString of joined chars"
   ]
  },
  {
   "metadata": {},
   "cell_type": "markdown",
   "source": "<div />"
  },
  {
   "metadata": {},
   "cell_type": "markdown",
   "source": [
    "<div style=\"position: absolute; top: 500px; right: 100px\">\n",
    "<img src=\"https://github.com/w8mr/parsek/raw/refs/heads/kotlin-dev-days-2025/kdd-25/big_knife.webp\" width=\"300px\"/>\n",
    "</div>\n",
    "\n",
    "# The extended Swiss army knife Parser\n",
    "\n",
    "Extend the combi parser to give it possibility to handle failures more flexible:\n",
    "\n",
    "Run function which returns the result of a parser (to handle failures differently)\n",
    "```kotlin\n",
    "    fun <R: Any> Parser<R>.run() : R?\n",
    "```\n",
    "Fail function to return a failure from the combinator\n",
    "```kotlin\n",
    "    fun fail() : Nothing\n",
    "```\n",
    "\n",
    "#\n",
    "#\n",
    "#\n",
    "#\n",
    "#\n",
    "#\n",
    "#\n",
    "#\n",
    "#\n",
    "#"
   ]
  },
  {
   "metadata": {
    "ExecuteTime": {
     "end_time": "2025-09-03T14:16:05.350435Z",
     "start_time": "2025-09-03T14:16:05.293304Z"
    }
   },
   "cell_type": "code",
   "outputs": [],
   "execution_count": 30,
   "source": [
    "interface CombiDSL {\n",
    "    operator fun <R: Any> Parser<R>.invoke() : R\n",
    "    fun <R: Any> Parser<R>.run() : R?\n",
    "    fun fail() : Nothing\n",
    "}\n",
    "\n",
    "class CombiDSLImpl(var input: String) : CombiDSL {\n",
    "    override fun <R: Any> Parser<R>.invoke(): R {\n",
    "        val (parsed, remainder) = this(input)\n",
    "        return when (parsed) {\n",
    "            null -> fail()\n",
    "            else -> {\n",
    "                input = remainder\n",
    "                parsed\n",
    "            }\n",
    "        }\n",
    "    }\n",
    "    override fun <R: Any> Parser<R>.run(): R? {\n",
    "        val (parsed, remainder) = this(input)\n",
    "        input = remainder\n",
    "        return parsed\n",
    "    }\n",
    "    override fun fail() = error(\"No match\")\n",
    "}"
   ]
  },
  {
   "metadata": {
    "ExecuteTime": {
     "end_time": "2025-09-03T14:16:06.020169Z",
     "start_time": "2025-09-03T14:16:05.975813Z"
    }
   },
   "cell_type": "code",
   "outputs": [],
   "execution_count": 31,
   "source": [
    "fun <R: Any> combi(init: CombiDSL.() -> R) = object: Parser<R> {\n",
    "    override fun invoke(input: String): Pair<R?, String> {\n",
    "        val dsl = CombiDSLImpl(input)\n",
    "        return try {\n",
    "            init.invoke(dsl) to dsl.input\n",
    "        } catch(e: Exception) {\n",
    "            null to input\n",
    "        }\n",
    "    }\n",
    "}"
   ]
  },
  {
   "metadata": {
    "ExecuteTime": {
     "end_time": "2025-09-03T14:16:06.561846Z",
     "start_time": "2025-09-03T14:16:06.501647Z"
    }
   },
   "cell_type": "code",
   "outputs": [],
   "execution_count": 32,
   "source": [
    "fun <R: Any> repeat(parser: Parser<out R>) = combi {\n",
    "    val result = mutableListOf<R>()\n",
    "    while (true) {\n",
    "        when (val parsed = parser.run()) {\n",
    "            null -> break\n",
    "            else -> result += parsed\n",
    "        }\n",
    "    }\n",
    "    result.toList()\n",
    "}\n",
    "\n",
    "\n",
    "// 14. Copy original repeat and adapt.\n",
    "// replace object and function override with combi\n",
    "// remove trailing } and remove indent\n",
    "// remove original invoke\n",
    "// add parser run to when subject\n",
    "// remove remainder of else\n",
    "// return result as list (remove return)"
   ]
  },
  {
   "metadata": {
    "ExecuteTime": {
     "end_time": "2025-09-03T14:16:08.317434Z",
     "start_time": "2025-09-03T14:16:08.249201Z"
    }
   },
   "cell_type": "code",
   "outputs": [],
   "execution_count": 33,
   "source": [
    "fun <R: Any> seq(vararg parsers: Parser<out R>) = combi {\n",
    "    val result = mutableListOf<R>()\n",
    "    for (parser in parsers) {\n",
    "        when (val parsed = parser.run()) {\n",
    "            null -> fail()\n",
    "            else -> result += parsed\n",
    "        }\n",
    "    }\n",
    "    result.toList()\n",
    "}\n",
    "\n",
    "infix fun <R: Any, S: Any> Parser<R>.map(func: (R) -> S) = combi {\n",
    "    when (val parsed = this@map.run()) {\n",
    "        null -> fail()\n",
    "        else -> func(parsed)\n",
    "    }\n",
    "}"
   ]
  },
  {
   "metadata": {
    "ExecuteTime": {
     "end_time": "2025-09-03T14:16:09.011552Z",
     "start_time": "2025-09-03T14:16:08.968508Z"
    }
   },
   "cell_type": "code",
   "outputs": [
    {
     "data": {
      "text/html": [
       "<table><tr><th>parsed</th><th>type</th><th>remainder</th></tr>\n",
       "    <tr><td>123</td><td>Int</td><td>\"abc\"</td></tr><table>"
      ],
      "text/plain": [
       "(123: Int, \"abc\")"
      ]
     },
     "execution_count": 34,
     "metadata": {},
     "output_type": "execute_result"
    }
   ],
   "execution_count": 34,
   "source": [
    "val number = repeat(digit) map { it.joinToString(\"\").toInt() }\n",
    "number(\"123abc\")"
   ]
  },
  {
   "metadata": {},
   "cell_type": "markdown",
   "source": [
    "# The choose parser\n",
    "\n",
    "Takes multiple parsers and returns the result of the first one that succeeds or fail if all fail.\n"
   ]
  },
  {
   "metadata": {
    "ExecuteTime": {
     "end_time": "2025-09-03T14:17:02.731779Z",
     "start_time": "2025-09-03T14:17:02.691832Z"
    }
   },
   "cell_type": "code",
   "outputs": [],
   "execution_count": 35,
   "source": [
    "fun <R: Any> oneOf(vararg parsers: Parser<out R>) = combi {\n",
    "    for (parser in parsers) {\n",
    "        when (val parsed = parser.run()) {\n",
    "            null -> {}\n",
    "            else -> return@combi parsed\n",
    "        }\n",
    "    }\n",
    "    fail()\n",
    "}\n",
    "\n",
    "// 15. Copy the seq implementation\n",
    "// rename\n",
    "// remove list\n",
    "// change null to empty block\n",
    "// change else to return@combi parsed\n",
    "// fail after loop"
   ]
  },
  {
   "metadata": {
    "ExecuteTime": {
     "end_time": "2025-09-03T14:17:03.620558Z",
     "start_time": "2025-09-03T14:17:03.590271Z"
    }
   },
   "cell_type": "code",
   "outputs": [
    {
     "data": {
      "text/html": [
       "<table><tr><th>parsed</th><th>type</th><th>remainder</th></tr>\n",
       "    <tr><td>Unit</td><td></td><td>\"bc\"</td></tr><table>"
      ],
      "text/plain": [
       "(Unit: , \"bc\")"
      ]
     },
     "execution_count": 36,
     "metadata": {},
     "output_type": "execute_result"
    }
   ],
   "execution_count": 36,
   "source": [
    "val oneOfabc = oneOf(char('a'), char('b'), char('c'))\n",
    "oneOfabc(\"abc\")"
   ]
  },
  {
   "metadata": {
    "ExecuteTime": {
     "end_time": "2025-09-03T14:17:06.270191Z",
     "start_time": "2025-09-03T14:17:06.242826Z"
    }
   },
   "cell_type": "code",
   "outputs": [
    {
     "data": {
      "text/html": [
       "<table><tr><th>parsed</th><th>type</th><th>remainder</th></tr>\n",
       "    <tr><td>null</td><td></td><td>\"def\"</td></tr><table>"
      ],
      "text/plain": [
       "(null: , \"def\")"
      ]
     },
     "execution_count": 37,
     "metadata": {},
     "output_type": "execute_result"
    }
   ],
   "execution_count": 37,
   "source": "oneOfabc(\"def\")"
  },
  {
   "metadata": {},
   "cell_type": "markdown",
   "source": [
    "# Another repeat combinator - separate by\n",
    "\n",
    "- If you input contains a list of data which is separated by something else\n"
   ]
  },
  {
   "metadata": {
    "ExecuteTime": {
     "end_time": "2025-09-03T14:17:28.487462Z",
     "start_time": "2025-09-03T14:17:28.419068Z"
    }
   },
   "cell_type": "code",
   "outputs": [],
   "execution_count": 38,
   "source": [
    "infix fun <R: Any, S: Any> Parser<R>.sepBy(separator: Parser<S>) = combi {\n",
    "    val result = mutableListOf<R>()\n",
    "    when (val e = this@sepBy.run()) {\n",
    "        null -> return@combi emptyList()\n",
    "        else -> result += e\n",
    "    }\n",
    "    while (true) {\n",
    "        when (separator.run()) {\n",
    "            null -> break\n",
    "            else -> {}\n",
    "        }\n",
    "        when (val e = this@sepBy.run()) {\n",
    "            null -> fail()\n",
    "            else -> result += e\n",
    "        }\n",
    "    }\n",
    "    result.toList()\n",
    "}"
   ]
  },
  {
   "metadata": {
    "ExecuteTime": {
     "end_time": "2025-09-03T13:03:31.795042Z",
     "start_time": "2025-09-03T12:04:58.894458Z"
    }
   },
   "cell_type": "code",
   "outputs": [
    {
     "data": {
      "text/html": [
       "<table><tr><th>parsed</th><th>type</th><th>remainder</th></tr>\n",
       "    <tr><td>[1, 2, 3]</td><td>List&lt;Char&gt;</td><td>\"45\"</td></tr><table>"
      ],
      "text/plain": [
       "([1, 2, 3]: List&lt;Char&gt;, \"45\")"
      ]
     },
     "execution_count": 34,
     "metadata": {},
     "output_type": "execute_result"
    }
   ],
   "execution_count": 34,
   "source": [
    "val test = digit sepBy char(',')\n",
    "test(\"1,2,345\")"
   ]
  },
  {
   "metadata": {},
   "cell_type": "markdown",
   "source": "<div />"
  },
  {
   "metadata": {},
   "cell_type": "markdown",
   "source": [
    "<div style=\"float:right\">\n",
    "<div style=\"float: right; padding: 50px 100px\"><img src=\"https://github.com/w8mr/parsek/raw/refs/heads/kotlin-dev-days-2025/kdd-25/json_card.png\" />\n",
    "</div>\n",
    "</div>\n",
    "\n",
    "# Putting it all together\n",
    "\n",
    "- Json data classes\n",
    "- Fixed parts\n",
    "- Building the parser from the specs\n",
    "\n",
    "#\n",
    "\n",
    "#\n",
    "\n",
    "#\n",
    "\n",
    "#\n",
    "\n",
    "#\n",
    "\n",
    "#\n",
    "\n",
    "\n"
   ]
  },
  {
   "metadata": {
    "ExecuteTime": {
     "end_time": "2025-09-03T14:18:35.988221Z",
     "start_time": "2025-09-03T14:18:35.928351Z"
    }
   },
   "cell_type": "code",
   "outputs": [],
   "execution_count": 39,
   "source": [
    "object JSONNull : JSONValue\n",
    "\n",
    "data class JSONBool(val value: Boolean) : JSONValue\n",
    "data class JSONNumber(val value: Int) : JSONValue\n",
    "data class JSONArray(val elements: List<JSONValue>) : JSONValue\n",
    "data class JSONObject(val elements: Map<JSONString, JSONValue>) : JSONValue"
   ]
  },
  {
   "metadata": {
    "ExecuteTime": {
     "end_time": "2025-09-03T14:18:36.447715Z",
     "start_time": "2025-09-03T14:18:36.346936Z"
    }
   },
   "cell_type": "code",
   "outputs": [],
   "execution_count": 40,
   "source": [
    "val ws = repeat(oneOf(char(' '), char('\\t'), char('\\r'), char('\\n'))).ignore()\n",
    "\n",
    "val leftCurly = ws and char('{') and ws\n",
    "val rightCurly = ws and char('}') and ws\n",
    "val leftSquare = ws and char('[') and ws\n",
    "val rightSquare = ws and char(']') and ws\n",
    "val colon = ws and (char(':')) and ws\n",
    "val comma = ws and (char(',')) and ws\n"
   ]
  },
  {
   "metadata": {
    "ExecuteTime": {
     "end_time": "2025-09-03T14:18:48.249966Z",
     "start_time": "2025-09-03T14:18:48.075587Z"
    }
   },
   "cell_type": "code",
   "outputs": [],
   "execution_count": 43,
   "source": [
    "val jsonNull = (char('n') and char('u') and char('l') and char('l')).map { JSONNull }\n",
    "val jsonTrue = (char('t') and char('r') and char('u') and char('e')).map { JSONBool(true) }\n",
    "val jsonFalse = (char('f') and char('a') and char('l') and char('s') and char('e')).map { JSONBool(false) }\n",
    "\n",
    "val jsonNumber = number map { JSONNumber(it) }\n",
    "\n",
    "val jsonStringValue = repeat(char { it != '\"' }).map { JSONString(it.joinToString(\"\")) }\n",
    "val jsonString = doubleQoute and jsonStringValue and doubleQoute\n",
    "\n",
    "val jsonValue : Parser<JSONValue> = oneOf(jsonNull, jsonTrue, jsonFalse, jsonNumber, jsonString, ref(::jsonArray), ref(::jsonObject))\n",
    "\n",
    "val jsonArray = leftSquare and (jsonValue sepBy comma).map { JSONArray(it) } and rightSquare\n",
    "\n",
    "val pair = combi {\n",
    "    val key = jsonString()\n",
    "    colon()\n",
    "    key to jsonValue()\n",
    "}\n",
    "\n",
    "val jsonObject = leftCurly and (pair sepBy comma).map { JSONObject(it.toMap()) } and rightCurly\n",
    "\n",
    "val json = ws and jsonValue and ws"
   ]
  },
  {
   "metadata": {
    "ExecuteTime": {
     "end_time": "2025-09-03T14:18:49.999406Z",
     "start_time": "2025-09-03T14:18:49.969748Z"
    }
   },
   "cell_type": "code",
   "outputs": [
    {
     "data": {
      "text/html": [
       "<table><tr><th>parsed</th><th>type</th><th>remainder</th></tr>\n",
       "    <tr><td>JSONBool(value=true)</td><td>JSONBool</td><td>\"\"</td></tr><table>"
      ],
      "text/plain": [
       "(JSONBool(value=true): JSONBool, \"\")"
      ]
     },
     "execution_count": 44,
     "metadata": {},
     "output_type": "execute_result"
    }
   ],
   "execution_count": 44,
   "source": "json(\"\"\" true \"\"\")"
  },
  {
   "metadata": {
    "ExecuteTime": {
     "end_time": "2025-09-03T14:18:50.974779Z",
     "start_time": "2025-09-03T14:18:50.953762Z"
    }
   },
   "cell_type": "code",
   "outputs": [
    {
     "data": {
      "text/html": [
       "<table><tr><th>parsed</th><th>type</th><th>remainder</th></tr>\n",
       "    <tr><td>JSONString(value=abc)</td><td>JSONString</td><td>\"\"</td></tr><table>"
      ],
      "text/plain": [
       "(JSONString(value=abc): JSONString, \"\")"
      ]
     },
     "execution_count": 45,
     "metadata": {},
     "output_type": "execute_result"
    }
   ],
   "execution_count": 45,
   "source": "json(\"\"\"\"abc\"  \"\"\")"
  },
  {
   "metadata": {
    "ExecuteTime": {
     "end_time": "2025-09-03T14:18:51.548004Z",
     "start_time": "2025-09-03T14:18:51.520950Z"
    }
   },
   "cell_type": "code",
   "outputs": [
    {
     "data": {
      "text/html": [
       "<table><tr><th>parsed</th><th>type</th><th>remainder</th></tr>\n",
       "    <tr><td>JSONNumber(value=1234)</td><td>JSONNumber</td><td>\"\"</td></tr><table>"
      ],
      "text/plain": [
       "(JSONNumber(value=1234): JSONNumber, \"\")"
      ]
     },
     "execution_count": 46,
     "metadata": {},
     "output_type": "execute_result"
    }
   ],
   "execution_count": 46,
   "source": "json(\"\"\" 1234 \"\"\")"
  },
  {
   "metadata": {
    "ExecuteTime": {
     "end_time": "2025-09-03T14:18:52.138221Z",
     "start_time": "2025-09-03T14:18:52.118523Z"
    }
   },
   "cell_type": "code",
   "outputs": [
    {
     "data": {
      "text/html": [
       "<table><tr><th>parsed</th><th>type</th><th>remainder</th></tr>\n",
       "    <tr><td>JSONArray(elements=[JSONNumber(value=1), JSONString(value=abc), JSONBool(value=true)])</td><td>JSONArray</td><td>\"\"</td></tr><table>"
      ],
      "text/plain": [
       "(JSONArray(elements=[JSONNumber(value=1), JSONString(value=abc), JSONBool(value=true)]): JSONArray, \"\")"
      ]
     },
     "execution_count": 47,
     "metadata": {},
     "output_type": "execute_result"
    }
   ],
   "execution_count": 47,
   "source": [
    "json(\"\"\" [1, \"abc\", true] \"\"\")\n",
    "\n",
    "// Check with jsonArray"
   ]
  },
  {
   "metadata": {},
   "cell_type": "markdown",
   "source": [
    "# The final parser combinator ref\n",
    "\n",
    "Since kotlin can't reference uninitialized variables, we add a ref parser to handle that."
   ]
  },
  {
   "metadata": {
    "ExecuteTime": {
     "end_time": "2025-09-03T14:18:44.288556Z",
     "start_time": "2025-09-03T14:18:44.258121Z"
    }
   },
   "cell_type": "code",
   "outputs": [],
   "execution_count": 42,
   "source": [
    "fun <R: Any> ref(parserRef: kotlin.reflect.KProperty0<Parser<R>>) = combi {\n",
    "    parserRef.get()() as R\n",
    "}\n",
    "\n",
    "// Add references to the jsonValue\n",
    "// , ref(::jsonArray), ref(::jsonObject)"
   ]
  },
  {
   "metadata": {
    "ExecuteTime": {
     "end_time": "2025-09-03T14:18:54.894656Z",
     "start_time": "2025-09-03T14:18:54.859810Z"
    }
   },
   "cell_type": "code",
   "outputs": [
    {
     "data": {
      "text/html": [
       "<table><tr><th>parsed</th><th>type</th><th>remainder</th></tr>\n",
       "    <tr><td>JSONObject(elements={JSONString(value=conference)=JSONString(value=Kotlin Dev Days), JSONString(value=year)=JSONNumber(value=2025), JSONString(value=talk)=JSONString(value=Simple Parser Combinator in Kotlin), JSONString(value=audienceIsSuper)=JSONBool(value=true), JSONString(value=author)=JSONObject(elements={JSONString(value=firstName)=JSONString(value=Elmar), JSONString(value=lastName)=JSONString(value=Wachtmeester)})})</td><td>JSONObject</td><td>\"\"</td></tr><table>"
      ],
      "text/plain": [
       "(JSONObject(elements={JSONString(value=conference)=JSONString(value=Kotlin Dev Days), JSONString(value=year)=JSONNumber(value=2025), JSONString(value=talk)=JSONString(value=Simple Parser Combinator in Kotlin), JSONString(value=audienceIsSuper)=JSONBool(value=true), JSONString(value=author)=JSONObject(elements={JSONString(value=firstName)=JSONString(value=Elmar), JSONString(value=lastName)=JSONString(value=Wachtmeester)})}): JSONObject, \"\")"
      ]
     },
     "execution_count": 48,
     "metadata": {},
     "output_type": "execute_result"
    }
   ],
   "execution_count": 48,
   "source": [
    "json(\"\"\"{\n",
    "    \"conference\" : \"Kotlin Dev Days\",\n",
    "    \"year\" : 2025,\n",
    "    \"talk\" : \"Simple Parser Combinator in Kotlin\",\n",
    "    \"audienceIsSuper\": true,\n",
    "    \"author\": {\n",
    "        \"firstName\": \"Elmar\",\n",
    "        \"lastName\": \"Wachtmeester\"\n",
    "    }\n",
    "}\"\"\")\n"
   ]
  },
  {
   "metadata": {},
   "cell_type": "markdown",
   "source": "<div />"
  },
  {
   "metadata": {},
   "cell_type": "markdown",
   "source": [
    "# Real world parser differences\n",
    "\n",
    "- Result class\n",
    "    - Success and Failure\n",
    "    - Subresult tree\n",
    "- Context\n",
    "    - Handles different input types, provides tokens\n",
    "        - String\n",
    "        - List<Token>\n",
    "        - ByteArray\n",
    "    - Create Result objects\n",
    "    - Stores intermediate values\n",
    "- Combi parser uses special exception\n",
    "- Way more utility classes\n",
    "- Special easy handling for text parsing\n",
    "- Recursion detection\n",
    "\n"
   ]
  },
  {
   "metadata": {
    "ExecuteTime": {
     "end_time": "2025-09-03T14:19:57.004519Z",
     "start_time": "2025-09-03T14:19:56.945271Z"
    }
   },
   "cell_type": "code",
   "outputs": [],
   "execution_count": 49,
   "source": [
    "interface Context<T> {\n",
    "    fun token(): Pair<T, Context<T>>\n",
    "    fun <R> success(value: R, subResults: List<Result<*>> = emptyList()) : Success<R>\n",
    "    fun failure(error: Any, subResults: List<Result<*>> = emptyList()): Failure\n",
    "}\n",
    "\n",
    "sealed interface Result<out R> {\n",
    "    val subResults: List<Result<*>>\n",
    "}\n",
    "\n",
    "class Success<R>(val value: R, override val subResults: List<Result<*>>) : Result<R>\n",
    "class Failure(val error: Any, override val subResults: List<Result<*>>) : Result<Nothing>\n",
    "\n",
    "interface Parser<T, R> {\n",
    "    operator fun invoke(input: Context<T>): Pair<Result<R>, Context<T>>\n",
    "}"
   ]
  },
  {
   "metadata": {},
   "cell_type": "markdown",
   "source": [
    "<div style=\"float:right\">\n",
    "<div style=\"float: right\"><img src=\"https://github.com/w8mr/parsek/raw/refs/heads/kotlin-dev-days-2025/kdd-25/link.svg\" >\n",
    "<center><h3><a href=\"https://w8mr.nl/kdd-25\">w8mr.nl/kdd-25</a></h3></center>\n",
    "<center><h3>Live Notebook</br>Presentation</h3></center>\n",
    "</div>\n",
    "</div>\n",
    "\n",
    "#\n",
    "\n",
    "# Questions?\n",
    "\n",
    "#\n",
    "\n",
    "#\n",
    "\n",
    "#\n",
    "\n",
    "Website: [w8mr.nl](https://w8mr.nl) \\\n",
    "Email: [elmar@w8mr.nl](mailto:elmar@w8mr.nl) \\\n",
    "GitHub: [github.com/w8mr/parsek](https://github.com/w8mr/parsek) \\\n",
    "LinkedIn: [www.linkedin.com/in/elmarwachtmeester/](https://www.linkedin.com/in/elmarwachtmeester/) \\\n",
    "X: [x.com/_w8mr](https://x.com/_w8mr) \\\n",
    "#\n",
    "#"
   ]
  },
  {
   "metadata": {},
   "cell_type": "markdown",
   "source": "# Examples to try out"
  },
  {
   "metadata": {},
   "cell_type": "markdown",
   "source": "### Using new interfaces for JSON parser\n"
  },
  {
   "metadata": {
    "ExecuteTime": {
     "end_time": "2025-09-03T13:03:31.803911Z",
     "start_time": "2025-09-03T12:05:34.516413Z"
    }
   },
   "cell_type": "code",
   "source": [
    "open abstract class AbstractContext<T>() : Context<T> {\n",
    "    override fun <R> success(value: R, subResults: List<Result<*>>) =\n",
    "        Success<R>(value, subResults)\n",
    "    override fun failure(error: Any, subResults: List<Result<*>>) =\n",
    "        Failure(error, subResults)\n",
    "\n",
    "}\n",
    "\n",
    "data class StringContext(val input: String, val index: Int = 0) : AbstractContext<Char>() {\n",
    "    override fun token(): Pair<Char, StringContext> =\n",
    "        input[index] to StringContext(input, index + 1)\n",
    "}\n",
    "\n",
    "operator fun <R> Parser<Char, R>.invoke(input: String) = when (val result = this(StringContext(input)).first) {\n",
    "    is Success -> result.value\n",
    "    is Failure -> error(result.error.toString())\n",
    "    else -> error(\"Should not happen\")\n",
    "}\n",
    "\n",
    "fun <R> Parser<Char, R>.run(input: String) = this(StringContext(input))"
   ],
   "outputs": [],
   "execution_count": 46
  },
  {
   "metadata": {
    "ExecuteTime": {
     "end_time": "2025-09-03T13:03:31.804106Z",
     "start_time": "2025-09-03T12:05:35.991715Z"
    }
   },
   "cell_type": "code",
   "source": [
    "val htmlStateRenderer = createRenderer<Pair<Result<*>, Context<*>>> {\n",
    "    fun resultToString(result: Result<*>): String =\n",
    "        when (result) {\n",
    "            is Failure -> {\n",
    "                \"<li>Failure: ${result.error}<ul>${result.subResults.map(::resultToString).map { \"$it\" }.joinToString(\"\")}</ul></li>\"\n",
    "            }\n",
    "            is Success<*> -> {\n",
    "                var (parsed, type) = when (val f = result.value) {\n",
    "                    null -> Pair(\"null\", \"\")\n",
    "                    is Unit -> Pair(\"Unit\", \"\")\n",
    "                    is List<*> -> if (f.isNotEmpty()) Pair(f.toString(), \"List&lt;${f[0]!!::class.simpleName}&gt;\") else Pair(\"[]\", \"List<Any>\")\n",
    "                    else -> Pair(f.toString(), f::class.simpleName)\n",
    "                }\n",
    "                \"<li>Success: $parsed ($type}<ul>${result.subResults.map(::resultToString).map { \"$it\" }.joinToString(\"\")}</ul></li>\"\n",
    "            }\n",
    "            else -> error(\"Should not happen\")\n",
    "        }\n",
    "\n",
    "    val html = \"\"\"<ul>${resultToString(it.first)}<li>Remainder: ${it.second.toString()}</li></ul>\"\"\"\n",
    "    mimeResult(\n",
    "        MimeTypes.HTML to html,\n",
    "        MimeTypes.PLAIN_TEXT to \"\"\"(${it.first}, \"${it.second}\")\"\"\"\n",
    "    )\n",
    "}\n",
    "notebook.renderersProcessor.registerWithoutOptimizing(htmlStateRenderer)"
   ],
   "outputs": [],
   "execution_count": 47
  },
  {
   "metadata": {
    "ExecuteTime": {
     "end_time": "2025-09-03T13:03:31.804339Z",
     "start_time": "2025-09-03T12:05:37.036169Z"
    }
   },
   "cell_type": "code",
   "source": [
    "val EoT = '\\u0003'\n",
    "fun char(predicate: (Char) -> Boolean) = object : Parser<Char, Char> {\n",
    "    override fun invoke(input: Context<Char>): Pair<Result<Char>, Context<Char>> {\n",
    "        val (ch, remainder) = input.token()\n",
    "        when {\n",
    "            predicate(ch) -> return Pair(input.success(ch), remainder)\n",
    "            else -> return Pair(input.failure(\"Character does not meet predicate\"), input)\n",
    "        }\n",
    "    }\n",
    "}\n",
    "\n",
    "val digit = char { it in '0'..'9' }\n",
    "\n",
    "digit(\"123\")"
   ],
   "outputs": [
    {
     "data": {
      "text/plain": [
       "1"
      ]
     },
     "execution_count": 48,
     "metadata": {},
     "output_type": "execute_result"
    }
   ],
   "execution_count": 48
  },
  {
   "metadata": {
    "ExecuteTime": {
     "end_time": "2025-09-03T13:03:31.804568Z",
     "start_time": "2025-09-03T12:05:38.826426Z"
    }
   },
   "cell_type": "code",
   "source": [
    "interface CombiDSL<T> {\n",
    "    operator fun <R> Parser<T, R>.invoke() : R\n",
    "    fun <R> Parser<T, R>.run() : Result<R>\n",
    "    fun fail() : Nothing\n",
    "}\n",
    "\n",
    "class CombiDSLImpl<T>(var input: Context<T>, val subResults: MutableList<Result<*>>) : CombiDSL<T> {\n",
    "    override fun <R> Parser<T, R>.invoke(): R {\n",
    "        val (parsed, context) = this(input)\n",
    "        subResults += parsed\n",
    "        return when (parsed) {\n",
    "            is Success<R> -> {\n",
    "                input = context\n",
    "                parsed.value\n",
    "            }\n",
    "            is Failure -> fail()\n",
    "            else -> error(\"Should not happen\")\n",
    "        }\n",
    "    }\n",
    "    override fun <R> Parser<T, R>.run(): Result<R> {\n",
    "        val (parsed, remainder) = this(input)\n",
    "        subResults += parsed\n",
    "        input = remainder\n",
    "        return parsed\n",
    "    }\n",
    "    override fun fail() = error(\"No match\")\n",
    "}\n",
    "\n",
    "fun <T, R> combi(init: CombiDSL<T>.() -> R) = object: Parser<T, R> {\n",
    "    override fun invoke(input: Context<T>): Pair<Result<R>, Context<T>> {\n",
    "        val subResults = mutableListOf<Result<*>>()\n",
    "        val dsl = CombiDSLImpl<T>(input, subResults)\n",
    "        return try {\n",
    "            Pair(input.success(init.invoke(dsl), subResults), dsl.input)\n",
    "        } catch(e: Exception) {\n",
    "            Pair(input.failure(\"Combinator failed\", subResults), input)\n",
    "        }\n",
    "    }\n",
    "}\n",
    "\n",
    "fun <T, R> repeat(parser: Parser<T, R>) = combi {\n",
    "    val result = mutableListOf<R>()\n",
    "    while (true) {\n",
    "        when (val parsed = parser.run()) {\n",
    "            is Failure -> break\n",
    "            is Success<R> -> result += parsed.value\n",
    "            else -> error(\"Should not happen\")\n",
    "        }\n",
    "    }\n",
    "    result.toList()\n",
    "}\n",
    "\n",
    "fun <T, R> seq(vararg parsers: Parser<T, out R>) = combi {\n",
    "    val result = mutableListOf<R>()\n",
    "    for (parser in parsers) {\n",
    "        when (val parsed = parser.run()) {\n",
    "            is Failure -> fail()\n",
    "            is Success<R> -> result += parsed.value\n",
    "            else -> error(\"Should not happen\")\n",
    "        }\n",
    "    }\n",
    "    result.toList()\n",
    "}\n",
    "\n",
    "infix fun <T, R, S> Parser<T, R>.map(func: (R) -> S) = combi {\n",
    "    when (val parsed = this@map.run()) {\n",
    "        is Failure -> fail()\n",
    "        is Success<R> -> func(parsed.value)\n",
    "        else -> error(\"Should not happen\")\n",
    "    }\n",
    "}\n",
    "\n",
    "val number = repeat(digit) map { it.joinToString(\"\").toInt() }\n",
    "\n",
    "number.run(\"123abc\")"
   ],
   "outputs": [
    {
     "data": {
      "text/html": [
       "<ul><li>Success: 123 (Int}<ul><li>Success: [1, 2, 3] (List&lt;Char&gt;}<ul><li>Success: 1 (Char}<ul></ul></li><li>Success: 2 (Char}<ul></ul></li><li>Success: 3 (Char}<ul></ul></li><li>Failure: Character does not meet predicate<ul></ul></li></ul></li></ul></li><li>Remainder: StringContext(input=123abc, index=3)</li></ul>"
      ],
      "text/plain": [
       "(Line_46_jupyter$Success@5df98766, \"StringContext(input=123abc, index=3)\")"
      ]
     },
     "execution_count": 49,
     "metadata": {},
     "output_type": "execute_result"
    }
   ],
   "execution_count": 49
  },
  {
   "metadata": {
    "ExecuteTime": {
     "end_time": "2025-09-03T13:03:31.804813Z",
     "start_time": "2025-09-03T12:05:40.741369Z"
    }
   },
   "cell_type": "code",
   "source": [
    "fun <T> Parser<T, *>.ignore() = this.map { Unit }\n",
    "fun char(char: Char) = char { it == char }.ignore()\n",
    "\n",
    "val doubleQoute = char('\"')\n",
    "\n",
    "@JvmName(\"and1\")\n",
    "infix fun <T, R> Parser<T, Unit>.and(other: Parser<T, R>) = seq(this, other).map { it[1] as R }\n",
    "@JvmName(\"and2\")\n",
    "infix fun <T, R> Parser<T, R>.and(other: Parser<T, Unit>) = seq(this, other).map { it[0] as R }\n",
    "@JvmName(\"and3\")\n",
    "infix fun <T, R, S> Parser<T, R>.and(other: Parser<T, S>) = seq(this, other).map { it[0] as R to it[1] as S }\n",
    "@JvmName(\"and4\")\n",
    "infix fun <T> Parser<T, Unit>.and(other: Parser<T, Unit>) = seq(this, other).map { Unit }"
   ],
   "outputs": [],
   "execution_count": 50
  },
  {
   "metadata": {
    "ExecuteTime": {
     "end_time": "2025-09-03T13:03:31.805002Z",
     "start_time": "2025-09-03T12:05:42.276149Z"
    }
   },
   "cell_type": "code",
   "source": [
    "fun <T, R> oneOf(vararg parsers: Parser<T, out R>) = combi {\n",
    "    for (parser in parsers) {\n",
    "        when (val parsed = parser.run()) {\n",
    "            is Failure -> {}\n",
    "            is Success<R> -> return@combi parsed.value\n",
    "            else -> error(\"Should not happen\")\n",
    "        }\n",
    "    }\n",
    "    fail()\n",
    "}\n",
    "\n",
    "infix fun <T, R, S> Parser<T, R>.sepBy(separator: Parser<T, S>) = combi {\n",
    "    val result = mutableListOf<R>()\n",
    "    when (val e = this@sepBy.run()) {\n",
    "        is Failure -> return@combi emptyList()\n",
    "        is Success<R> -> result += e.value\n",
    "        else -> error(\"Should not happen\")\n",
    "    }\n",
    "    while (true) {\n",
    "        when (separator.run()) {\n",
    "            is Failure -> break\n",
    "            is Success<S> -> {}\n",
    "            else -> error(\"Should not happen\")\n",
    "        }\n",
    "        when (val e = this@sepBy.run()) {\n",
    "            is Failure -> fail()\n",
    "            is Success<R> -> result += e.value\n",
    "            else -> error(\"Should not happen\")\n",
    "        }\n",
    "    }\n",
    "    result.toList()\n",
    "}\n",
    "\n",
    "fun <T, R> ref(parserRef: kotlin.reflect.KProperty0<Parser<T, R>>) = combi {\n",
    "    parserRef.get()()\n",
    "}"
   ],
   "outputs": [],
   "execution_count": 51
  },
  {
   "metadata": {
    "ExecuteTime": {
     "end_time": "2025-09-03T13:03:31.805190Z",
     "start_time": "2025-09-03T12:05:43.319763Z"
    }
   },
   "cell_type": "code",
   "source": [
    "val ws = repeat(oneOf(char(' '), char('\\t'), char('\\r'), char('\\n'))).ignore()\n",
    "\n",
    "val leftCurly = ws and char('{') and ws\n",
    "val rightCurly = ws and char('}') and ws\n",
    "val leftSquare = ws and char('[') and ws\n",
    "val rightSquare = ws and char(']') and ws\n",
    "val colon = ws and (char(':')) and ws\n",
    "val comma = ws and (char(',')) and ws\n"
   ],
   "outputs": [],
   "execution_count": 52
  },
  {
   "metadata": {
    "ExecuteTime": {
     "end_time": "2025-09-03T13:03:31.805380Z",
     "start_time": "2025-09-03T12:05:46.529100Z"
    }
   },
   "cell_type": "code",
   "source": [
    "val jsonNull = (char('n') and char('u') and char('l') and char('l')) map { JSONNull }\n",
    "val jsonTrue = (char('t') and char('r') and char('u') and char('e')) map { JSONBool(true) }\n",
    "val jsonFalse = (char('f') and char('a') and char('l') and char('s') and char('e')) map { JSONBool(false) }\n",
    "\n",
    "val jsonNumber = number map { JSONNumber(it) }\n",
    "\n",
    "val jsonStringValue = repeat(char { it != '\"' }).map { JSONString(it.joinToString(\"\")) }\n",
    "val jsonString = doubleQoute and jsonStringValue and doubleQoute\n",
    "\n",
    "val jsonValue : Parser<Char, JSONValue> = oneOf(jsonNull, jsonTrue, jsonFalse, jsonNumber, jsonString, ref(::jsonArray), ref(::jsonObject))\n",
    "\n",
    "val jsonArray = leftSquare and (jsonValue sepBy comma).map { JSONArray(it) } and rightSquare\n",
    "\n",
    "val pair = combi {\n",
    "    val key = jsonString()\n",
    "    colon()\n",
    "    key to jsonValue()\n",
    "}\n",
    "\n",
    "val jsonObject = leftCurly and (pair sepBy comma).map { JSONObject(it.toMap()) } and rightCurly\n",
    "\n",
    "val json = ws and jsonValue and ws"
   ],
   "outputs": [],
   "execution_count": 53
  },
  {
   "metadata": {
    "ExecuteTime": {
     "end_time": "2025-09-03T13:03:31.805600Z",
     "start_time": "2025-09-03T12:05:47.838788Z"
    }
   },
   "cell_type": "code",
   "source": [
    "json(\"\"\"{\n",
    "    \"conference\" : \"Kotlin Dev Days\",\n",
    "    \"year\" : 2025,\n",
    "    \"talk\" : \"Simple Parser Combinator in Kotlin\",\n",
    "    \"audienceIsSuper\": true,\n",
    "    \"author\": {\n",
    "        \"firstName\": \"Elmar\",\n",
    "        \"lastName\": \"Wachtmeester\"\n",
    "    }\n",
    "}\"\"\")"
   ],
   "outputs": [
    {
     "data": {
      "text/plain": [
       "JSONObject(elements={JSONString(value=conference)=JSONString(value=Kotlin Dev Days), JSONString(value=year)=JSONNumber(value=2025), JSONString(value=talk)=JSONString(value=Simple Parser Combinator in Kotlin), JSONString(value=audienceIsSuper)=JSONBool(value=true), JSONString(value=author)=JSONObject(elements={JSONString(value=firstName)=JSONString(value=Elmar), JSONString(value=lastName)=JSONString(value=Wachtmeester)})})"
      ]
     },
     "execution_count": 54,
     "metadata": {},
     "output_type": "execute_result"
    }
   ],
   "execution_count": 54
  },
  {
   "metadata": {},
   "cell_type": "code",
   "outputs": [],
   "execution_count": null,
   "source": ""
  }
 ],
 "metadata": {
  "kernelspec": {
   "display_name": "Kotlin",
   "language": "kotlin",
   "name": "kotlin"
  },
  "language_info": {
   "name": "kotlin",
   "version": "1.9.23",
   "mimetype": "text/x-kotlin",
   "file_extension": ".kt",
   "pygments_lexer": "kotlin",
   "codemirror_mode": "text/x-kotlin",
   "nbconvert_exporter": ""
  }
 },
 "nbformat": 4,
 "nbformat_minor": 0
}
